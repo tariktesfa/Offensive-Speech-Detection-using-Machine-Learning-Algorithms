{
 "cells": [
  {
   "cell_type": "markdown",
   "id": "3c7154c7",
   "metadata": {},
   "source": [
    "### LSTM"
   ]
  },
  {
   "cell_type": "code",
   "execution_count": 1,
   "id": "2742f1c4",
   "metadata": {},
   "outputs": [
    {
     "name": "stderr",
     "output_type": "stream",
     "text": [
      "C:\\Users\\Tarik\\Anaconda3\\lib\\site-packages\\scipy\\__init__.py:146: UserWarning: A NumPy version >=1.16.5 and <1.23.0 is required for this version of SciPy (detected version 1.23.5\n",
      "  warnings.warn(f\"A NumPy version >={np_minversion} and <{np_maxversion}\"\n"
     ]
    },
    {
     "data": {
      "text/html": [
       "        <script type=\"text/javascript\">\n",
       "        window.PlotlyConfig = {MathJaxConfig: 'local'};\n",
       "        if (window.MathJax && window.MathJax.Hub && window.MathJax.Hub.Config) {window.MathJax.Hub.Config({SVG: {font: \"STIX-Web\"}});}\n",
       "        if (typeof require !== 'undefined') {\n",
       "        require.undef(\"plotly\");\n",
       "        requirejs.config({\n",
       "            paths: {\n",
       "                'plotly': ['https://cdn.plot.ly/plotly-2.16.1.min']\n",
       "            }\n",
       "        });\n",
       "        require(['plotly'], function(Plotly) {\n",
       "            window._Plotly = Plotly;\n",
       "        });\n",
       "        }\n",
       "        </script>\n",
       "        "
      ]
     },
     "metadata": {},
     "output_type": "display_data"
    }
   ],
   "source": [
    "from nltk import word_tokenize\n",
    "from nltk.corpus import stopwords\n",
    "import matplotlib.pyplot as plt\n",
    "import matplotlib.patches as mpatches\n",
    "from sklearn.feature_extraction.text import CountVectorizer, TfidfVectorizer\n",
    "from nltk.corpus import stopwords\n",
    "import string\n",
    "from plotly import tools\n",
    "import plotly.offline as py\n",
    "py.init_notebook_mode(connected=True)\n",
    "import plotly.graph_objs as go\n",
    "import nltk\n",
    "import re\n",
    "\n",
    "# Basic packages\n",
    "import pandas as pd \n",
    "import numpy as np\n",
    "import re\n",
    "import collections\n",
    "import matplotlib.pyplot as plt\n",
    "from pathlib import Path\n",
    "import tensorflow.keras as keras\n",
    "# Packages for data preparation\n",
    "from sklearn.model_selection import train_test_split\n",
    "from nltk.corpus import stopwords\n",
    "from keras.preprocessing.text import Tokenizer\n",
    "from keras.utils.np_utils import to_categorical\n",
    "from sklearn.preprocessing import LabelEncoder\n",
    "\n",
    "# Packages for modeling\n",
    "from keras import models\n",
    "from keras import layers\n",
    "from keras import regularizers\n",
    "from keras.layers import GRU, LSTM\n",
    "\n",
    "from keras.preprocessing.text import Tokenizer\n",
    "#from keras.preprocessing.sequence import pad_sequences\n",
    "from keras_preprocessing.sequence import pad_sequences\n",
    "from keras.layers import Dense, Input, LSTM, Embedding, Dropout, Activation, CuDNNGRU, Conv1D,Dropout,SimpleRNN\n",
    "from keras.layers import Bidirectional, GlobalMaxPool1D\n",
    "from keras.models import Model\n",
    "from keras import initializers, regularizers, constraints, optimizers, layers\n",
    "\n",
    "import re\n",
    "import nltk\n",
    "import string\n",
    "\n",
    "import warnings\n",
    "warnings.filterwarnings(\"ignore\")"
   ]
  },
  {
   "cell_type": "code",
   "execution_count": 2,
   "id": "14ec8db6",
   "metadata": {},
   "outputs": [],
   "source": [
    "NB_WORDS = 10000  # Parameter indicating the number of words we'll put in the dictionary\n",
    "VAL_SIZE = 1000  # Size of the validation set\n",
    "NB_START_EPOCHS = 10  # Number of epochs we usually start to train with\n",
    "BATCH_SIZE = 512  # Size of the batches used in the mini-batch gradient descent\n",
    "MAX_LEN = 40 # Maximum number of words in a sequence"
   ]
  },
  {
   "cell_type": "code",
   "execution_count": 3,
   "id": "fa097106",
   "metadata": {},
   "outputs": [],
   "source": [
    "df = pd.read_csv('preprocessed.csv')\n",
    "df = df[['Posts', 'Label']]"
   ]
  },
  {
   "cell_type": "code",
   "execution_count": 4,
   "id": "c7514ab2",
   "metadata": {},
   "outputs": [
    {
     "data": {
      "text/html": [
       "<div>\n",
       "<style scoped>\n",
       "    .dataframe tbody tr th:only-of-type {\n",
       "        vertical-align: middle;\n",
       "    }\n",
       "\n",
       "    .dataframe tbody tr th {\n",
       "        vertical-align: top;\n",
       "    }\n",
       "\n",
       "    .dataframe thead th {\n",
       "        text-align: right;\n",
       "    }\n",
       "</style>\n",
       "<table border=\"1\" class=\"dataframe\">\n",
       "  <thead>\n",
       "    <tr style=\"text-align: right;\">\n",
       "      <th></th>\n",
       "      <th>Posts</th>\n",
       "      <th>Label</th>\n",
       "    </tr>\n",
       "  </thead>\n",
       "  <tbody>\n",
       "    <tr>\n",
       "      <th>0</th>\n",
       "      <td>እነዚህን ወሳኝ ጉዳዮችን የሚያስፈፅም አካል እንዲቋቋምና ክትትል እንዲደረ...</td>\n",
       "      <td>ነጻ</td>\n",
       "    </tr>\n",
       "    <tr>\n",
       "      <th>1</th>\n",
       "      <td>ጃዋር አልበግዳዲ በግርግር ስልጣን ለመያዝ የሚያደርገው ነገር ብዙ ስራ ፈ...</td>\n",
       "      <td>ጥላቻ</td>\n",
       "    </tr>\n",
       "    <tr>\n",
       "      <th>2</th>\n",
       "      <td>ምን ሆናችሁ ኦርቶዶክሶች ሰሞኑን ፖለቲካ ገባ እንዴ ውስጣችኋይዟችሁ ወደ...</td>\n",
       "      <td>ነጻ</td>\n",
       "    </tr>\n",
       "    <tr>\n",
       "      <th>3</th>\n",
       "      <td>ስለ አሳምነው የምትፅፈው ነገር አሳምነው ለአማራ የነበረው ተቆርቋሪነት አ...</td>\n",
       "      <td>ነጻ</td>\n",
       "    </tr>\n",
       "    <tr>\n",
       "      <th>4</th>\n",
       "      <td>አጋጣሚውን ተጠቅመው የእስክንድር ነጋን ስም እና ትግል ለማዳከም የሚፈልጉ...</td>\n",
       "      <td>ጥላቻ</td>\n",
       "    </tr>\n",
       "    <tr>\n",
       "      <th>...</th>\n",
       "      <td>...</td>\n",
       "      <td>...</td>\n",
       "    </tr>\n",
       "    <tr>\n",
       "      <th>5725</th>\n",
       "      <td>ኦህዴድ እራሱ ባመጣዉ ቀዉስ ተናዉጦ መዉጫ ቀዳዳ     እየፈለገ ነዉ</td>\n",
       "      <td>ጥላቻ</td>\n",
       "    </tr>\n",
       "    <tr>\n",
       "      <th>5726</th>\n",
       "      <td>ኦሮሞ ሀገር መምራት አይችልም</td>\n",
       "      <td>ጥላቻ</td>\n",
       "    </tr>\n",
       "    <tr>\n",
       "      <th>5727</th>\n",
       "      <td>ሲማረኩ በሚሰጡት  አትታለሉ  ማርኮ ከማብላት መረሸን ይቀላል  ትግሬ ጎረ...</td>\n",
       "      <td>ጥላቻ</td>\n",
       "    </tr>\n",
       "    <tr>\n",
       "      <th>5728</th>\n",
       "      <td>በኦሮሞ ጥላቻ የተሞሉ ሴገጤዎች የወሎ ኦሮሞን ምንም ስሌ  የማያውቅን ህ...</td>\n",
       "      <td>ጥላቻ</td>\n",
       "    </tr>\n",
       "    <tr>\n",
       "      <th>5729</th>\n",
       "      <td>ኮሮና ቫይረስ ኢትዮጵያ ገባ እያሉ  ሲንጫጩ ስታይ አረ ፈታ በሉ ከቫይረሱ...</td>\n",
       "      <td>ጥላቻ</td>\n",
       "    </tr>\n",
       "  </tbody>\n",
       "</table>\n",
       "<p>5730 rows × 2 columns</p>\n",
       "</div>"
      ],
      "text/plain": [
       "                                                  Posts Label\n",
       "0     እነዚህን ወሳኝ ጉዳዮችን የሚያስፈፅም አካል እንዲቋቋምና ክትትል እንዲደረ...    ነጻ\n",
       "1     ጃዋር አልበግዳዲ በግርግር ስልጣን ለመያዝ የሚያደርገው ነገር ብዙ ስራ ፈ...   ጥላቻ\n",
       "2      ምን ሆናችሁ ኦርቶዶክሶች ሰሞኑን ፖለቲካ ገባ እንዴ ውስጣችኋይዟችሁ ወደ...    ነጻ\n",
       "3     ስለ አሳምነው የምትፅፈው ነገር አሳምነው ለአማራ የነበረው ተቆርቋሪነት አ...    ነጻ\n",
       "4     አጋጣሚውን ተጠቅመው የእስክንድር ነጋን ስም እና ትግል ለማዳከም የሚፈልጉ...   ጥላቻ\n",
       "...                                                 ...   ...\n",
       "5725      ኦህዴድ እራሱ ባመጣዉ ቀዉስ ተናዉጦ መዉጫ ቀዳዳ     እየፈለገ ነዉ     ጥላቻ\n",
       "5726                                 ኦሮሞ ሀገር መምራት አይችልም   ጥላቻ\n",
       "5727  ሲማረኩ በሚሰጡት  አትታለሉ  ማርኮ ከማብላት መረሸን ይቀላል  ትግሬ ጎረ...   ጥላቻ\n",
       "5728   በኦሮሞ ጥላቻ የተሞሉ ሴገጤዎች የወሎ ኦሮሞን ምንም ስሌ  የማያውቅን ህ...   ጥላቻ\n",
       "5729  ኮሮና ቫይረስ ኢትዮጵያ ገባ እያሉ  ሲንጫጩ ስታይ አረ ፈታ በሉ ከቫይረሱ...   ጥላቻ\n",
       "\n",
       "[5730 rows x 2 columns]"
      ]
     },
     "execution_count": 4,
     "metadata": {},
     "output_type": "execute_result"
    }
   ],
   "source": [
    "df "
   ]
  },
  {
   "cell_type": "code",
   "execution_count": 5,
   "id": "f96d2cff",
   "metadata": {},
   "outputs": [],
   "source": [
    "df.drop_duplicates(inplace=True)"
   ]
  },
  {
   "cell_type": "code",
   "execution_count": 6,
   "id": "74cd7e96",
   "metadata": {},
   "outputs": [
    {
     "data": {
      "text/plain": [
       "(5709, 2)"
      ]
     },
     "execution_count": 6,
     "metadata": {},
     "output_type": "execute_result"
    }
   ],
   "source": [
    "df.shape"
   ]
  },
  {
   "cell_type": "code",
   "execution_count": 7,
   "id": "6b0c3599",
   "metadata": {},
   "outputs": [
    {
     "name": "stdout",
     "output_type": "stream",
     "text": [
      "# Train data samples: 4567\n",
      "# Test data samples: 1142\n"
     ]
    }
   ],
   "source": [
    "X_train, X_test, y_train, y_test = train_test_split(df.Posts, df.Label, test_size=0.2, random_state=37)\n",
    "print('# Train data samples:', X_train.shape[0])\n",
    "print('# Test data samples:', X_test.shape[0])\n",
    "assert X_train.shape[0] == y_train.shape[0]\n",
    "assert X_test.shape[0] == y_test.shape[0]"
   ]
  },
  {
   "cell_type": "code",
   "execution_count": 8,
   "id": "76fe27ed",
   "metadata": {},
   "outputs": [
    {
     "name": "stdout",
     "output_type": "stream",
     "text": [
      "<class 'list'>\n"
     ]
    }
   ],
   "source": [
    "tk = Tokenizer(num_words=NB_WORDS,\n",
    "               filters='!\"#$%&()*+,-./:;<=>?@[\\\\]^_`{|}~\\t\\n',\n",
    "               lower=True,\n",
    "               split=\" \")\n",
    "tk.fit_on_texts(X_train)\n",
    "\n",
    "X_train_seq = tk.texts_to_sequences(X_train)\n",
    "X_test_seq = tk.texts_to_sequences(X_test)\n",
    "print(type(X_train_seq))"
   ]
  },
  {
   "cell_type": "code",
   "execution_count": 9,
   "id": "cdc365b8",
   "metadata": {},
   "outputs": [],
   "source": [
    "le = LabelEncoder()\n",
    "y_train_le = le.fit_transform(y_train)\n",
    "y_test_le = le.transform(y_test)\n",
    "y_train_oh = to_categorical(y_train_le)\n",
    "y_test_oh = to_categorical(y_test_le)"
   ]
  },
  {
   "cell_type": "code",
   "execution_count": 11,
   "id": "3a8c20c7",
   "metadata": {},
   "outputs": [
    {
     "name": "stdout",
     "output_type": "stream",
     "text": [
      "Maximum sentence length of the dataset: 215\n"
     ]
    }
   ],
   "source": [
    "MAX_LEN = max(df['Posts'].apply(lambda x: len(x.split(' '))))\n",
    "print(\"Maximum sentence length of the dataset:\", MAX_LEN)"
   ]
  },
  {
   "cell_type": "code",
   "execution_count": 12,
   "id": "e367c246",
   "metadata": {},
   "outputs": [
    {
     "name": "stdout",
     "output_type": "stream",
     "text": [
      "[[ 108    1   33 ...    0    0    0]\n",
      " [3714 1355    9 ...    0    0    0]\n",
      " [ 206   52    4 ...    0    0    0]\n",
      " ...\n",
      " [ 105 1166    0 ...    0    0    0]\n",
      " [3534 1292   49 ...    0    0    0]\n",
      " [  65    0    0 ...    0    0    0]]\n",
      "Shape of validation set: (457, 215)\n"
     ]
    }
   ],
   "source": [
    "X_test_seq_trunc = pad_sequences(X_test_seq, maxlen=MAX_LEN, padding='post')\n",
    "X_train_seq_trunc = pad_sequences(X_train_seq, maxlen=MAX_LEN, padding='post')\n",
    "\n",
    "print(X_test_seq_trunc)\n",
    "X_train_emb, X_valid_emb, y_train_emb, y_valid_emb = train_test_split(X_train_seq_trunc, y_train_oh, test_size=0.1, random_state=37)\n",
    "\n",
    "assert X_valid_emb.shape[0] == y_valid_emb.shape[0]\n",
    "assert X_train_emb.shape[0] == y_train_emb.shape[0]\n",
    "\n",
    "print('Shape of validation set:',X_valid_emb.shape)"
   ]
  },
  {
   "cell_type": "code",
   "execution_count": 13,
   "id": "f65b707d",
   "metadata": {},
   "outputs": [],
   "source": [
    "def model(model_type):\n",
    "    emb_model = models.Sequential()\n",
    "    emb_model.add(layers.Embedding(NB_WORDS,48, input_length=MAX_LEN))\n",
    "    if model_type == 'LSTM':\n",
    "        emb_model.add(LSTM(60, return_sequences=True,name='lstm_layer'))\n",
    "    elif model_type == 'CNN':\n",
    "        emb_model.add(Conv1D(60,32,activation='relu',name='CNN_layer'))\n",
    "    elif model_type == 'GRU':\n",
    "        emb_model.add(GRU(60,name='GRU_layer',return_sequences=True))\n",
    "    elif model_type == 'SimpleRNN':\n",
    "        emb_model.add(SimpleRNN(32, return_sequences=True,name='SimpleRNN'))\n",
    "\n",
    "    emb_model.add(Dropout(0.5))\n",
    "    emb_model.add(layers.Flatten())\n",
    "    emb_model.add(layers.Dense(2, activation='softmax'))\n",
    "    emb_model.summary()\n",
    "    return emb_model"
   ]
  },
  {
   "cell_type": "code",
   "execution_count": 14,
   "id": "dc9f3e6d",
   "metadata": {},
   "outputs": [
    {
     "name": "stdout",
     "output_type": "stream",
     "text": [
      "Model: \"sequential\"\n",
      "_________________________________________________________________\n",
      " Layer (type)                Output Shape              Param #   \n",
      "=================================================================\n",
      " embedding (Embedding)       (None, 215, 48)           480000    \n",
      "                                                                 \n",
      " lstm_layer (LSTM)           (None, 215, 60)           26160     \n",
      "                                                                 \n",
      " dropout (Dropout)           (None, 215, 60)           0         \n",
      "                                                                 \n",
      " flatten (Flatten)           (None, 12900)             0         \n",
      "                                                                 \n",
      " dense (Dense)               (None, 2)                 25802     \n",
      "                                                                 \n",
      "=================================================================\n",
      "Total params: 531,962\n",
      "Trainable params: 531,962\n",
      "Non-trainable params: 0\n",
      "_________________________________________________________________\n"
     ]
    }
   ],
   "source": [
    "model = model('LSTM')"
   ]
  },
  {
   "cell_type": "code",
   "execution_count": 15,
   "id": "c817fa03",
   "metadata": {},
   "outputs": [],
   "source": [
    "from tensorflow.keras.callbacks import EarlyStopping \n",
    "callback = EarlyStopping(monitor='loss', patience=5)"
   ]
  },
  {
   "cell_type": "code",
   "execution_count": 16,
   "id": "886918c1",
   "metadata": {},
   "outputs": [],
   "source": [
    "from tensorflow.keras.losses import CategoricalCrossentropy\n",
    "model.compile(loss=CategoricalCrossentropy(), optimizer ='adam', metrics=['accuracy'])"
   ]
  },
  {
   "cell_type": "code",
   "execution_count": 17,
   "id": "f9eb93ae",
   "metadata": {
    "scrolled": true
   },
   "outputs": [
    {
     "name": "stdout",
     "output_type": "stream",
     "text": [
      "Epoch 1/100\n",
      "33/33 [==============================] - 38s 724ms/step - loss: 0.6895 - accuracy: 0.5418 - val_loss: 0.6818 - val_accuracy: 0.5492\n",
      "Epoch 2/100\n",
      "33/33 [==============================] - 18s 544ms/step - loss: 0.5575 - accuracy: 0.7107 - val_loss: 0.6033 - val_accuracy: 0.6937\n",
      "Epoch 3/100\n",
      "33/33 [==============================] - 18s 547ms/step - loss: 0.2443 - accuracy: 0.8944 - val_loss: 0.6612 - val_accuracy: 0.7287\n",
      "Epoch 4/100\n",
      "33/33 [==============================] - 21s 636ms/step - loss: 0.1464 - accuracy: 0.9414 - val_loss: 0.7991 - val_accuracy: 0.7309\n",
      "Epoch 5/100\n",
      "33/33 [==============================] - 21s 622ms/step - loss: 0.0939 - accuracy: 0.9620 - val_loss: 1.0583 - val_accuracy: 0.7265\n",
      "Epoch 6/100\n",
      "33/33 [==============================] - 20s 622ms/step - loss: 0.0754 - accuracy: 0.9725 - val_loss: 1.0694 - val_accuracy: 0.7330\n",
      "Epoch 7/100\n",
      "33/33 [==============================] - 21s 645ms/step - loss: 0.0635 - accuracy: 0.9771 - val_loss: 1.2033 - val_accuracy: 0.7309\n",
      "Epoch 8/100\n",
      "33/33 [==============================] - 20s 605ms/step - loss: 0.0643 - accuracy: 0.9759 - val_loss: 1.1303 - val_accuracy: 0.7199\n",
      "Epoch 9/100\n",
      "33/33 [==============================] - 19s 572ms/step - loss: 0.0671 - accuracy: 0.9769 - val_loss: 1.2375 - val_accuracy: 0.7374\n",
      "Epoch 10/100\n",
      "33/33 [==============================] - 19s 577ms/step - loss: 0.0500 - accuracy: 0.9800 - val_loss: 1.4056 - val_accuracy: 0.7287\n",
      "Epoch 11/100\n",
      "33/33 [==============================] - 19s 588ms/step - loss: 0.0484 - accuracy: 0.9822 - val_loss: 1.2260 - val_accuracy: 0.7243\n",
      "Epoch 12/100\n",
      "33/33 [==============================] - 17s 510ms/step - loss: 0.0444 - accuracy: 0.9825 - val_loss: 1.2666 - val_accuracy: 0.7243\n",
      "Epoch 13/100\n",
      "33/33 [==============================] - 18s 547ms/step - loss: 0.0408 - accuracy: 0.9830 - val_loss: 1.4589 - val_accuracy: 0.7221\n",
      "Epoch 14/100\n",
      "33/33 [==============================] - 20s 596ms/step - loss: 0.0444 - accuracy: 0.9825 - val_loss: 1.2984 - val_accuracy: 0.7177\n",
      "Epoch 15/100\n",
      "33/33 [==============================] - 19s 563ms/step - loss: 0.0386 - accuracy: 0.9837 - val_loss: 1.4616 - val_accuracy: 0.7199\n",
      "Epoch 16/100\n",
      "33/33 [==============================] - 17s 519ms/step - loss: 0.0390 - accuracy: 0.9839 - val_loss: 1.4593 - val_accuracy: 0.7221\n",
      "Epoch 17/100\n",
      "33/33 [==============================] - 11s 326ms/step - loss: 0.0385 - accuracy: 0.9837 - val_loss: 1.4434 - val_accuracy: 0.7199\n",
      "Epoch 18/100\n",
      "33/33 [==============================] - 11s 346ms/step - loss: 0.0348 - accuracy: 0.9842 - val_loss: 1.5171 - val_accuracy: 0.7221\n",
      "Epoch 19/100\n",
      "33/33 [==============================] - 11s 322ms/step - loss: 0.0345 - accuracy: 0.9842 - val_loss: 1.5679 - val_accuracy: 0.7155\n",
      "Epoch 20/100\n",
      "33/33 [==============================] - 11s 342ms/step - loss: 0.0346 - accuracy: 0.9835 - val_loss: 1.4862 - val_accuracy: 0.7199\n",
      "Epoch 21/100\n",
      "33/33 [==============================] - 11s 338ms/step - loss: 0.0391 - accuracy: 0.9818 - val_loss: 1.6317 - val_accuracy: 0.7155\n",
      "Epoch 22/100\n",
      "33/33 [==============================] - 12s 356ms/step - loss: 0.0332 - accuracy: 0.9861 - val_loss: 1.5186 - val_accuracy: 0.7243\n",
      "Epoch 23/100\n",
      "33/33 [==============================] - 12s 373ms/step - loss: 0.0365 - accuracy: 0.9849 - val_loss: 1.5017 - val_accuracy: 0.7090\n",
      "Epoch 24/100\n",
      "33/33 [==============================] - 12s 359ms/step - loss: 0.0386 - accuracy: 0.9830 - val_loss: 1.4027 - val_accuracy: 0.7112\n",
      "Epoch 25/100\n",
      "33/33 [==============================] - 12s 356ms/step - loss: 0.0363 - accuracy: 0.9861 - val_loss: 1.4668 - val_accuracy: 0.7221\n",
      "Epoch 26/100\n",
      "33/33 [==============================] - 11s 320ms/step - loss: 0.0332 - accuracy: 0.9852 - val_loss: 1.3989 - val_accuracy: 0.7133\n",
      "Epoch 27/100\n",
      "33/33 [==============================] - 10s 308ms/step - loss: 0.0354 - accuracy: 0.9861 - val_loss: 1.5192 - val_accuracy: 0.7155\n"
     ]
    }
   ],
   "source": [
    "history = model.fit(X_train_emb, y_train_emb,batch_size=128,epochs=100, validation_data=(X_valid_emb, y_valid_emb), \n",
    "                    verbose=1, callbacks=[callback])"
   ]
  },
  {
   "cell_type": "code",
   "execution_count": 18,
   "id": "b2a98b74",
   "metadata": {},
   "outputs": [
    {
     "data": {
      "image/png": "[encoded data removed]",
      "text/plain": [
       "<Figure size 432x288 with 1 Axes>"
      ]
     },
     "metadata": {
      "needs_background": "light"
     },
     "output_type": "display_data"
    }
   ],
   "source": [
    "#eval_metric(emb_history, 'accuracy')\n",
    "history.history['accuracy']\n",
    "#plt.plot(emb_history.history['accuracy'], 'b', emb_history.history['val_accuracy'], 'g')\n",
    "line1, = plt.plot(history.history['accuracy'], label = 'accuracy')\n",
    "line2, = plt.plot(history.history['val_accuracy'], label = 'val_accuracy')\n",
    "legnd = plt.legend(loc='upper center')\n",
    "plt.title('LSTM Model Performance')\n",
    "\n",
    "plt.show()"
   ]
  }
 ],
 "metadata": {
  "kernelspec": {
   "display_name": "Python 3 (ipykernel)",
   "language": "python",
   "name": "python3"
  },
  "language_info": {
   "codemirror_mode": {
    "name": "ipython",
    "version": 3
   },
   "file_extension": ".py",
   "mimetype": "text/x-python",
   "name": "python",
   "nbconvert_exporter": "python",
   "pygments_lexer": "ipython3",
   "version": "3.9.7"
  },
  "vscode": {
   "interpreter": {
    "hash": "ad2bdc8ecc057115af97d19610ffacc2b4e99fae6737bb82f5d7fb13d2f2c186"
   }
  }
 },
 "nbformat": 4,
 "nbformat_minor": 5
}
