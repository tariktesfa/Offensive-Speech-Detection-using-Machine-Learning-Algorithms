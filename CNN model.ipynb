{
 "cells": [
  {
   "cell_type": "markdown",
   "id": "3c7154c7",
   "metadata": {},
   "source": [
    "### CNN"
   ]
  },
  {
   "cell_type": "code",
   "execution_count": 2,
   "id": "2742f1c4",
   "metadata": {},
   "outputs": [
    {
     "data": {
      "text/html": [
       "        <script type=\"text/javascript\">\n",
       "        window.PlotlyConfig = {MathJaxConfig: 'local'};\n",
       "        if (window.MathJax && window.MathJax.Hub && window.MathJax.Hub.Config) {window.MathJax.Hub.Config({SVG: {font: \"STIX-Web\"}});}\n",
       "        if (typeof require !== 'undefined') {\n",
       "        require.undef(\"plotly\");\n",
       "        requirejs.config({\n",
       "            paths: {\n",
       "                'plotly': ['https://cdn.plot.ly/plotly-2.16.1.min']\n",
       "            }\n",
       "        });\n",
       "        require(['plotly'], function(Plotly) {\n",
       "            window._Plotly = Plotly;\n",
       "        });\n",
       "        }\n",
       "        </script>\n",
       "        "
      ]
     },
     "metadata": {},
     "output_type": "display_data"
    }
   ],
   "source": [
    "from nltk import word_tokenize\n",
    "from nltk.corpus import stopwords\n",
    "import matplotlib.pyplot as plt\n",
    "import matplotlib.patches as mpatches\n",
    "from sklearn.feature_extraction.text import CountVectorizer, TfidfVectorizer\n",
    "from nltk.corpus import stopwords\n",
    "import string\n",
    "from plotly import tools\n",
    "import plotly.offline as py\n",
    "py.init_notebook_mode(connected=True)\n",
    "import plotly.graph_objs as go\n",
    "import nltk\n",
    "import re\n",
    "\n",
    "# Basic packages\n",
    "import pandas as pd \n",
    "import numpy as np\n",
    "import re\n",
    "import collections\n",
    "import matplotlib.pyplot as plt\n",
    "from pathlib import Path\n",
    "import tensorflow.keras as keras\n",
    "# Packages for data preparation\n",
    "from sklearn.model_selection import train_test_split\n",
    "from nltk.corpus import stopwords\n",
    "from keras.preprocessing.text import Tokenizer\n",
    "from keras.utils.np_utils import to_categorical\n",
    "from sklearn.preprocessing import LabelEncoder\n",
    "\n",
    "# Packages for modeling\n",
    "from keras import models\n",
    "from keras import layers\n",
    "from keras import regularizers\n",
    "from keras.layers import GRU, LSTM\n",
    "\n",
    "from keras.preprocessing.text import Tokenizer\n",
    "#from keras.preprocessing.sequence import pad_sequences\n",
    "from keras_preprocessing.sequence import pad_sequences\n",
    "from keras.layers import Dense, Input, LSTM, Embedding, Dropout, Activation, CuDNNGRU, Conv1D,Dropout,SimpleRNN\n",
    "from keras.layers import Bidirectional, GlobalMaxPool1D\n",
    "from keras.models import Model\n",
    "from keras import initializers, regularizers, constraints, optimizers, layers\n",
    "\n",
    "import re\n",
    "import nltk\n",
    "import string\n",
    "\n",
    "import warnings\n",
    "warnings.filterwarnings(\"ignore\")"
   ]
  },
  {
   "cell_type": "code",
   "execution_count": 3,
   "id": "14ec8db6",
   "metadata": {},
   "outputs": [],
   "source": [
    "NB_WORDS = 10000  # Parameter indicating the number of words we'll put in the dictionary\n",
    "VAL_SIZE = 1000  # Size of the validation set\n",
    "NB_START_EPOCHS = 10  # Number of epochs we usually start to train with\n",
    "BATCH_SIZE = 512  # Size of the batches used in the mini-batch gradient descent\n",
    "MAX_LEN = 40 # Maximum number of words in a sequence"
   ]
  },
  {
   "cell_type": "code",
   "execution_count": 8,
   "id": "fa097106",
   "metadata": {},
   "outputs": [],
   "source": [
    "df = pd.read_csv('preprocessed.csv')\n",
    "df = df[['Posts', 'Label']]"
   ]
  },
  {
   "cell_type": "code",
   "execution_count": 9,
   "id": "c7514ab2",
   "metadata": {},
   "outputs": [
    {
     "data": {
      "text/html": [
       "<div>\n",
       "<style scoped>\n",
       "    .dataframe tbody tr th:only-of-type {\n",
       "        vertical-align: middle;\n",
       "    }\n",
       "\n",
       "    .dataframe tbody tr th {\n",
       "        vertical-align: top;\n",
       "    }\n",
       "\n",
       "    .dataframe thead th {\n",
       "        text-align: right;\n",
       "    }\n",
       "</style>\n",
       "<table border=\"1\" class=\"dataframe\">\n",
       "  <thead>\n",
       "    <tr style=\"text-align: right;\">\n",
       "      <th></th>\n",
       "      <th>Posts</th>\n",
       "      <th>Label</th>\n",
       "    </tr>\n",
       "  </thead>\n",
       "  <tbody>\n",
       "    <tr>\n",
       "      <th>0</th>\n",
       "      <td>እነዚህን ወሳኝ ጉዳዮችን የሚያስፈፅም አካል እንዲቋቋምና ክትትል እንዲደረ...</td>\n",
       "      <td>ነጻ</td>\n",
       "    </tr>\n",
       "    <tr>\n",
       "      <th>1</th>\n",
       "      <td>ጃዋር አልበግዳዲ በግርግር ስልጣን ለመያዝ የሚያደርገው ነገር ብዙ ስራ ፈ...</td>\n",
       "      <td>ጥላቻ</td>\n",
       "    </tr>\n",
       "    <tr>\n",
       "      <th>2</th>\n",
       "      <td>ምን ሆናችሁ ኦርቶዶክሶች ሰሞኑን ፖለቲካ ገባ እንዴ ውስጣችኋይዟችሁ ወደ...</td>\n",
       "      <td>ነጻ</td>\n",
       "    </tr>\n",
       "    <tr>\n",
       "      <th>3</th>\n",
       "      <td>ስለ አሳምነው የምትፅፈው ነገር አሳምነው ለአማራ የነበረው ተቆርቋሪነት አ...</td>\n",
       "      <td>ነጻ</td>\n",
       "    </tr>\n",
       "    <tr>\n",
       "      <th>4</th>\n",
       "      <td>አጋጣሚውን ተጠቅመው የእስክንድር ነጋን ስም እና ትግል ለማዳከም የሚፈልጉ...</td>\n",
       "      <td>ጥላቻ</td>\n",
       "    </tr>\n",
       "    <tr>\n",
       "      <th>...</th>\n",
       "      <td>...</td>\n",
       "      <td>...</td>\n",
       "    </tr>\n",
       "    <tr>\n",
       "      <th>5725</th>\n",
       "      <td>ኦህዴድ እራሱ ባመጣዉ ቀዉስ ተናዉጦ መዉጫ ቀዳዳ     እየፈለገ ነዉ</td>\n",
       "      <td>ጥላቻ</td>\n",
       "    </tr>\n",
       "    <tr>\n",
       "      <th>5726</th>\n",
       "      <td>ኦሮሞ ሀገር መምራት አይችልም</td>\n",
       "      <td>ጥላቻ</td>\n",
       "    </tr>\n",
       "    <tr>\n",
       "      <th>5727</th>\n",
       "      <td>ሲማረኩ በሚሰጡት  አትታለሉ  ማርኮ ከማብላት መረሸን ይቀላል  ትግሬ ጎረ...</td>\n",
       "      <td>ጥላቻ</td>\n",
       "    </tr>\n",
       "    <tr>\n",
       "      <th>5728</th>\n",
       "      <td>በኦሮሞ ጥላቻ የተሞሉ ሴገጤዎች የወሎ ኦሮሞን ምንም ስሌ  የማያውቅን ህ...</td>\n",
       "      <td>ጥላቻ</td>\n",
       "    </tr>\n",
       "    <tr>\n",
       "      <th>5729</th>\n",
       "      <td>ኮሮና ቫይረስ ኢትዮጵያ ገባ እያሉ  ሲንጫጩ ስታይ አረ ፈታ በሉ ከቫይረሱ...</td>\n",
       "      <td>ጥላቻ</td>\n",
       "    </tr>\n",
       "  </tbody>\n",
       "</table>\n",
       "<p>5730 rows × 2 columns</p>\n",
       "</div>"
      ],
      "text/plain": [
       "                                                  Posts Label\n",
       "0     እነዚህን ወሳኝ ጉዳዮችን የሚያስፈፅም አካል እንዲቋቋምና ክትትል እንዲደረ...    ነጻ\n",
       "1     ጃዋር አልበግዳዲ በግርግር ስልጣን ለመያዝ የሚያደርገው ነገር ብዙ ስራ ፈ...   ጥላቻ\n",
       "2      ምን ሆናችሁ ኦርቶዶክሶች ሰሞኑን ፖለቲካ ገባ እንዴ ውስጣችኋይዟችሁ ወደ...    ነጻ\n",
       "3     ስለ አሳምነው የምትፅፈው ነገር አሳምነው ለአማራ የነበረው ተቆርቋሪነት አ...    ነጻ\n",
       "4     አጋጣሚውን ተጠቅመው የእስክንድር ነጋን ስም እና ትግል ለማዳከም የሚፈልጉ...   ጥላቻ\n",
       "...                                                 ...   ...\n",
       "5725      ኦህዴድ እራሱ ባመጣዉ ቀዉስ ተናዉጦ መዉጫ ቀዳዳ     እየፈለገ ነዉ     ጥላቻ\n",
       "5726                                 ኦሮሞ ሀገር መምራት አይችልም   ጥላቻ\n",
       "5727  ሲማረኩ በሚሰጡት  አትታለሉ  ማርኮ ከማብላት መረሸን ይቀላል  ትግሬ ጎረ...   ጥላቻ\n",
       "5728   በኦሮሞ ጥላቻ የተሞሉ ሴገጤዎች የወሎ ኦሮሞን ምንም ስሌ  የማያውቅን ህ...   ጥላቻ\n",
       "5729  ኮሮና ቫይረስ ኢትዮጵያ ገባ እያሉ  ሲንጫጩ ስታይ አረ ፈታ በሉ ከቫይረሱ...   ጥላቻ\n",
       "\n",
       "[5730 rows x 2 columns]"
      ]
     },
     "execution_count": 9,
     "metadata": {},
     "output_type": "execute_result"
    }
   ],
   "source": [
    "df "
   ]
  },
  {
   "cell_type": "code",
   "execution_count": 10,
   "id": "f96d2cff",
   "metadata": {},
   "outputs": [],
   "source": [
    "df.drop_duplicates(inplace=True)"
   ]
  },
  {
   "cell_type": "code",
   "execution_count": 11,
   "id": "74cd7e96",
   "metadata": {},
   "outputs": [
    {
     "data": {
      "text/plain": [
       "(5709, 2)"
      ]
     },
     "execution_count": 11,
     "metadata": {},
     "output_type": "execute_result"
    }
   ],
   "source": [
    "df.shape"
   ]
  },
  {
   "cell_type": "code",
   "execution_count": 13,
   "id": "6b0c3599",
   "metadata": {},
   "outputs": [
    {
     "name": "stdout",
     "output_type": "stream",
     "text": [
      "# Train data samples: 4567\n",
      "# Test data samples: 1142\n"
     ]
    }
   ],
   "source": [
    "X_train, X_test, y_train, y_test = train_test_split(df.Posts, df.Label, test_size=0.2, random_state=37)\n",
    "print('# Train data samples:', X_train.shape[0])\n",
    "print('# Test data samples:', X_test.shape[0])\n",
    "assert X_train.shape[0] == y_train.shape[0]\n",
    "assert X_test.shape[0] == y_test.shape[0]"
   ]
  },
  {
   "cell_type": "code",
   "execution_count": 14,
   "id": "76fe27ed",
   "metadata": {},
   "outputs": [
    {
     "name": "stdout",
     "output_type": "stream",
     "text": [
      "<class 'list'>\n"
     ]
    }
   ],
   "source": [
    "tk = Tokenizer(num_words=NB_WORDS,\n",
    "               filters='!\"#$%&()*+,-./:;<=>?@[\\\\]^_`{|}~\\t\\n',\n",
    "               lower=True,\n",
    "               split=\" \")\n",
    "tk.fit_on_texts(X_train)\n",
    "\n",
    "X_train_seq = tk.texts_to_sequences(X_train)\n",
    "X_test_seq = tk.texts_to_sequences(X_test)\n",
    "print(type(X_train_seq))"
   ]
  },
  {
   "cell_type": "code",
   "execution_count": 15,
   "id": "cdc365b8",
   "metadata": {},
   "outputs": [],
   "source": [
    "le = LabelEncoder()\n",
    "y_train_le = le.fit_transform(y_train)\n",
    "y_test_le = le.transform(y_test)\n",
    "y_train_oh = to_categorical(y_train_le)\n",
    "y_test_oh = to_categorical(y_test_le)"
   ]
  },
  {
   "cell_type": "code",
   "execution_count": 18,
   "id": "3a8c20c7",
   "metadata": {},
   "outputs": [
    {
     "name": "stdout",
     "output_type": "stream",
     "text": [
      "Maximum sentence length of the dataset: 215\n"
     ]
    }
   ],
   "source": [
    "MAX_LEN = max(df['Posts'].apply(lambda x: len(x.split(' '))))\n",
    "print(\"Maximum sentence length of the dataset:\", MAX_LEN)"
   ]
  },
  {
   "cell_type": "code",
   "execution_count": 19,
   "id": "e367c246",
   "metadata": {},
   "outputs": [
    {
     "name": "stdout",
     "output_type": "stream",
     "text": [
      "[[ 108    1   33 ...    0    0    0]\n",
      " [3714 1355    9 ...    0    0    0]\n",
      " [ 206   52    4 ...    0    0    0]\n",
      " ...\n",
      " [ 105 1166    0 ...    0    0    0]\n",
      " [3534 1292   49 ...    0    0    0]\n",
      " [  65    0    0 ...    0    0    0]]\n",
      "Shape of validation set: (457, 215)\n"
     ]
    }
   ],
   "source": [
    "X_test_seq_trunc = pad_sequences(X_test_seq, maxlen=MAX_LEN, padding='post')\n",
    "X_train_seq_trunc = pad_sequences(X_train_seq, maxlen=MAX_LEN, padding='post')\n",
    "\n",
    "print(X_test_seq_trunc)\n",
    "X_train_emb, X_valid_emb, y_train_emb, y_valid_emb = train_test_split(X_train_seq_trunc, y_train_oh, test_size=0.1, random_state=37)\n",
    "\n",
    "assert X_valid_emb.shape[0] == y_valid_emb.shape[0]\n",
    "assert X_train_emb.shape[0] == y_train_emb.shape[0]\n",
    "\n",
    "print('Shape of validation set:',X_valid_emb.shape)"
   ]
  },
  {
   "cell_type": "code",
   "execution_count": 28,
   "id": "f65b707d",
   "metadata": {},
   "outputs": [],
   "source": [
    "def model(model_type):\n",
    "    emb_model = models.Sequential()\n",
    "    emb_model.add(layers.Embedding(NB_WORDS,48, input_length=MAX_LEN))\n",
    "    if model_type == 'LSTM':\n",
    "        emb_model.add(LSTM(60, return_sequences=True,name='lstm_layer'))\n",
    "    elif model_type == 'CNN':\n",
    "        emb_model.add(Conv1D(60,32,activation='relu',name='CNN_layer'))\n",
    "    elif model_type == 'GRU':\n",
    "        emb_model.add(GRU(60,name='GRU_layer',return_sequences=True))\n",
    "    elif model_type == 'SimpleRNN':\n",
    "        emb_model.add(SimpleRNN(32, return_sequences=True,name='SimpleRNN'))\n",
    "\n",
    "    emb_model.add(Dropout(0.5))\n",
    "    emb_model.add(layers.Flatten())\n",
    "    emb_model.add(layers.Dense(2, activation='softmax'))\n",
    "    emb_model.summary()\n",
    "    return emb_model"
   ]
  },
  {
   "cell_type": "code",
   "execution_count": 29,
   "id": "dc9f3e6d",
   "metadata": {},
   "outputs": [
    {
     "name": "stdout",
     "output_type": "stream",
     "text": [
      "Model: \"sequential_1\"\n",
      "_________________________________________________________________\n",
      " Layer (type)                Output Shape              Param #   \n",
      "=================================================================\n",
      " embedding_1 (Embedding)     (None, 215, 48)           480000    \n",
      "                                                                 \n",
      " CNN_layer (Conv1D)          (None, 184, 60)           92220     \n",
      "                                                                 \n",
      " dropout_1 (Dropout)         (None, 184, 60)           0         \n",
      "                                                                 \n",
      " flatten_1 (Flatten)         (None, 11040)             0         \n",
      "                                                                 \n",
      " dense_1 (Dense)             (None, 2)                 22082     \n",
      "                                                                 \n",
      "=================================================================\n",
      "Total params: 594,302\n",
      "Trainable params: 594,302\n",
      "Non-trainable params: 0\n",
      "_________________________________________________________________\n"
     ]
    }
   ],
   "source": [
    "model = model('CNN')"
   ]
  },
  {
   "cell_type": "code",
   "execution_count": 30,
   "id": "c817fa03",
   "metadata": {},
   "outputs": [],
   "source": [
    "from tensorflow.keras.callbacks import EarlyStopping \n",
    "callback = EarlyStopping(monitor='loss', patience=5)"
   ]
  },
  {
   "cell_type": "code",
   "execution_count": 31,
   "id": "886918c1",
   "metadata": {},
   "outputs": [],
   "source": [
    "from tensorflow.keras.losses import CategoricalCrossentropy\n",
    "model.compile(loss=CategoricalCrossentropy(), optimizer ='adam', metrics=['accuracy'])"
   ]
  },
  {
   "cell_type": "code",
   "execution_count": 32,
   "id": "f9eb93ae",
   "metadata": {
    "scrolled": true
   },
   "outputs": [
    {
     "name": "stdout",
     "output_type": "stream",
     "text": [
      "Epoch 1/100\n",
      "33/33 [==============================] - 13s 289ms/step - loss: 0.6919 - accuracy: 0.5280 - val_loss: 0.6813 - val_accuracy: 0.5821\n",
      "Epoch 2/100\n",
      "33/33 [==============================] - 9s 262ms/step - loss: 0.6665 - accuracy: 0.5891 - val_loss: 0.6505 - val_accuracy: 0.6236\n",
      "Epoch 3/100\n",
      "33/33 [==============================] - 9s 277ms/step - loss: 0.4780 - accuracy: 0.7676 - val_loss: 0.6541 - val_accuracy: 0.7024\n",
      "Epoch 4/100\n",
      "33/33 [==============================] - 9s 263ms/step - loss: 0.2698 - accuracy: 0.8805 - val_loss: 0.7761 - val_accuracy: 0.7112\n",
      "Epoch 5/100\n",
      "33/33 [==============================] - 9s 267ms/step - loss: 0.1637 - accuracy: 0.9345 - val_loss: 0.9659 - val_accuracy: 0.7024\n",
      "Epoch 6/100\n",
      "33/33 [==============================] - 9s 261ms/step - loss: 0.1261 - accuracy: 0.9504 - val_loss: 1.0616 - val_accuracy: 0.7177\n",
      "Epoch 7/100\n",
      "33/33 [==============================] - 9s 273ms/step - loss: 0.1125 - accuracy: 0.9550 - val_loss: 1.0834 - val_accuracy: 0.7112\n",
      "Epoch 8/100\n",
      "33/33 [==============================] - 9s 282ms/step - loss: 0.0810 - accuracy: 0.9693 - val_loss: 1.1449 - val_accuracy: 0.7133\n",
      "Epoch 9/100\n",
      "33/33 [==============================] - 10s 289ms/step - loss: 0.0689 - accuracy: 0.9747 - val_loss: 1.2814 - val_accuracy: 0.7155\n",
      "Epoch 10/100\n",
      "33/33 [==============================] - 9s 279ms/step - loss: 0.0633 - accuracy: 0.9762 - val_loss: 1.2806 - val_accuracy: 0.7243\n",
      "Epoch 11/100\n",
      "33/33 [==============================] - 10s 295ms/step - loss: 0.0499 - accuracy: 0.9791 - val_loss: 1.3515 - val_accuracy: 0.7177\n",
      "Epoch 12/100\n",
      "33/33 [==============================] - 10s 294ms/step - loss: 0.0492 - accuracy: 0.9798 - val_loss: 1.4214 - val_accuracy: 0.6893\n",
      "Epoch 13/100\n",
      "33/33 [==============================] - 9s 287ms/step - loss: 0.0465 - accuracy: 0.9791 - val_loss: 1.4232 - val_accuracy: 0.7199\n",
      "Epoch 14/100\n",
      "33/33 [==============================] - 10s 303ms/step - loss: 0.0474 - accuracy: 0.9830 - val_loss: 1.5038 - val_accuracy: 0.7155\n",
      "Epoch 15/100\n",
      "33/33 [==============================] - 10s 297ms/step - loss: 0.0436 - accuracy: 0.9839 - val_loss: 1.5724 - val_accuracy: 0.6980\n",
      "Epoch 16/100\n",
      "33/33 [==============================] - 10s 290ms/step - loss: 0.0493 - accuracy: 0.9837 - val_loss: 1.4483 - val_accuracy: 0.7112\n",
      "Epoch 17/100\n",
      "33/33 [==============================] - 9s 284ms/step - loss: 0.0390 - accuracy: 0.9856 - val_loss: 1.5590 - val_accuracy: 0.7177\n",
      "Epoch 18/100\n",
      "33/33 [==============================] - 9s 281ms/step - loss: 0.0784 - accuracy: 0.9791 - val_loss: 1.3859 - val_accuracy: 0.7002\n",
      "Epoch 19/100\n",
      "33/33 [==============================] - 9s 283ms/step - loss: 0.0408 - accuracy: 0.9844 - val_loss: 1.4108 - val_accuracy: 0.7330\n",
      "Epoch 20/100\n",
      "33/33 [==============================] - 9s 280ms/step - loss: 0.0340 - accuracy: 0.9871 - val_loss: 1.4840 - val_accuracy: 0.7002\n",
      "Epoch 21/100\n",
      "33/33 [==============================] - 10s 288ms/step - loss: 0.0347 - accuracy: 0.9852 - val_loss: 1.4921 - val_accuracy: 0.7155\n",
      "Epoch 22/100\n",
      "33/33 [==============================] - 10s 313ms/step - loss: 0.0312 - accuracy: 0.9869 - val_loss: 1.4413 - val_accuracy: 0.7221\n",
      "Epoch 23/100\n",
      "33/33 [==============================] - 11s 324ms/step - loss: 0.0262 - accuracy: 0.9876 - val_loss: 1.4926 - val_accuracy: 0.7177\n",
      "Epoch 24/100\n",
      "33/33 [==============================] - 10s 305ms/step - loss: 0.0249 - accuracy: 0.9876 - val_loss: 1.5524 - val_accuracy: 0.7112\n",
      "Epoch 25/100\n",
      "33/33 [==============================] - 10s 315ms/step - loss: 0.0274 - accuracy: 0.9883 - val_loss: 1.5590 - val_accuracy: 0.7090\n",
      "Epoch 26/100\n",
      "33/33 [==============================] - 10s 293ms/step - loss: 0.0256 - accuracy: 0.9891 - val_loss: 1.5530 - val_accuracy: 0.7155\n",
      "Epoch 27/100\n",
      "33/33 [==============================] - 11s 322ms/step - loss: 0.0263 - accuracy: 0.9871 - val_loss: 1.5372 - val_accuracy: 0.7155\n",
      "Epoch 28/100\n",
      "33/33 [==============================] - 9s 281ms/step - loss: 0.0247 - accuracy: 0.9898 - val_loss: 1.5933 - val_accuracy: 0.7177\n",
      "Epoch 29/100\n",
      "33/33 [==============================] - 10s 293ms/step - loss: 0.0236 - accuracy: 0.9866 - val_loss: 1.6139 - val_accuracy: 0.7199\n",
      "Epoch 30/100\n",
      "33/33 [==============================] - 10s 290ms/step - loss: 0.0297 - accuracy: 0.9881 - val_loss: 1.5982 - val_accuracy: 0.7133\n",
      "Epoch 31/100\n",
      "33/33 [==============================] - 9s 284ms/step - loss: 0.0229 - accuracy: 0.9893 - val_loss: 1.5452 - val_accuracy: 0.7221\n",
      "Epoch 32/100\n",
      "33/33 [==============================] - 10s 294ms/step - loss: 0.0238 - accuracy: 0.9898 - val_loss: 1.5833 - val_accuracy: 0.7155\n",
      "Epoch 33/100\n",
      "33/33 [==============================] - 9s 275ms/step - loss: 0.0249 - accuracy: 0.9876 - val_loss: 1.5931 - val_accuracy: 0.7199\n",
      "Epoch 34/100\n",
      "33/33 [==============================] - 10s 293ms/step - loss: 0.0248 - accuracy: 0.9878 - val_loss: 1.5569 - val_accuracy: 0.7155\n",
      "Epoch 35/100\n",
      "33/33 [==============================] - 10s 312ms/step - loss: 0.0233 - accuracy: 0.9891 - val_loss: 1.6949 - val_accuracy: 0.7002\n",
      "Epoch 36/100\n",
      "33/33 [==============================] - 10s 293ms/step - loss: 0.0286 - accuracy: 0.9866 - val_loss: 1.5498 - val_accuracy: 0.7396\n"
     ]
    }
   ],
   "source": [
    "history = model.fit(X_train_emb, y_train_emb,batch_size=128,epochs=100, validation_data=(X_valid_emb, y_valid_emb), \n",
    "                    verbose=1, callbacks=[callback])"
   ]
  },
  {
   "cell_type": "code",
   "execution_count": 33,
   "id": "b2a98b74",
   "metadata": {},
   "outputs": [
    {
     "data": {
      "image/png": "[encoded data removed]",
      "text/plain": [
       "<Figure size 432x288 with 1 Axes>"
      ]
     },
     "metadata": {
      "needs_background": "light"
     },
     "output_type": "display_data"
    }
   ],
   "source": [
    "#eval_metric(emb_history, 'accuracy')\n",
    "history.history['accuracy']\n",
    "#plt.plot(emb_history.history['accuracy'], 'b', emb_history.history['val_accuracy'], 'g')\n",
    "line1, = plt.plot(history.history['accuracy'], label = 'accuracy')\n",
    "line2, = plt.plot(history.history['val_accuracy'], label = 'val_accuracy')\n",
    "legnd = plt.legend(loc='upper center')\n",
    "plt.title('CNN Model Performance')\n",
    "plt.ylim([0.4,1])\n",
    "plt.show()"
   ]
  }
 ],
 "metadata": {
  "kernelspec": {
   "display_name": "Python 3 (ipykernel)",
   "language": "python",
   "name": "python3"
  },
  "language_info": {
   "codemirror_mode": {
    "name": "ipython",
    "version": 3
   },
   "file_extension": ".py",
   "mimetype": "text/x-python",
   "name": "python",
   "nbconvert_exporter": "python",
   "pygments_lexer": "ipython3",
   "version": "3.9.7"
  },
  "vscode": {
   "interpreter": {
    "hash": "ad2bdc8ecc057115af97d19610ffacc2b4e99fae6737bb82f5d7fb13d2f2c186"
   }
  }
 },
 "nbformat": 4,
 "nbformat_minor": 5
}
