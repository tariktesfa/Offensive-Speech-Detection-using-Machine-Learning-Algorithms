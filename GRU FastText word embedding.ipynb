{
 "cells": [
  {
   "cell_type": "code",
   "execution_count": 1,
   "id": "2742f1c4",
   "metadata": {},
   "outputs": [
    {
     "name": "stderr",
     "output_type": "stream",
     "text": [
      "C:\\Users\\Tarik\\Anaconda3\\lib\\site-packages\\scipy\\__init__.py:146: UserWarning: A NumPy version >=1.16.5 and <1.23.0 is required for this version of SciPy (detected version 1.23.5\n",
      "  warnings.warn(f\"A NumPy version >={np_minversion} and <{np_maxversion}\"\n"
     ]
    }
   ],
   "source": [
    "import sys, os, re, csv, codecs, numpy as np, pandas as pd\n",
    "import matplotlib.pyplot as plt\n",
    "%matplotlib inline\n",
    "from keras.preprocessing.text import Tokenizer\n",
    "from keras_preprocessing.sequence import pad_sequences\n",
    "from keras.layers import Dense, Input, LSTM, Embedding, Dropout, Activation,CuDNNLSTM,Flatten,CuDNNGRU, GRU\n",
    "from keras.layers import Bidirectional, GlobalMaxPool1D,Bidirectional,GlobalMaxPool2D\n",
    "from keras.models import Model\n",
    "from keras import initializers, regularizers, constraints, optimizers, layers\n",
    "import matplotlib.pyplot as plt\n",
    "%matplotlib inline\n",
    "import gensim.models.keyedvectors as word2vec\n",
    "import gc\n",
    "from sklearn.model_selection import train_test_split\n",
    "import itertools\n",
    "from keras.utils.np_utils import to_categorical\n",
    "from sklearn.preprocessing import LabelEncoder\n",
    "from tensorflow.keras.callbacks import EarlyStopping \n",
    "from tensorflow.keras.regularizers import L1, L2\n",
    "from tensorflow.keras.losses import CategoricalCrossentropy"
   ]
  },
  {
   "cell_type": "code",
   "execution_count": 2,
   "id": "3c8c394b",
   "metadata": {},
   "outputs": [],
   "source": [
    "df = pd.read_csv('preprocessed.csv')\n",
    "df = df[['Posts', 'Label']]"
   ]
  },
  {
   "cell_type": "code",
   "execution_count": 3,
   "id": "2b7428d1",
   "metadata": {},
   "outputs": [
    {
     "data": {
      "text/html": [
       "<div>\n",
       "<style scoped>\n",
       "    .dataframe tbody tr th:only-of-type {\n",
       "        vertical-align: middle;\n",
       "    }\n",
       "\n",
       "    .dataframe tbody tr th {\n",
       "        vertical-align: top;\n",
       "    }\n",
       "\n",
       "    .dataframe thead th {\n",
       "        text-align: right;\n",
       "    }\n",
       "</style>\n",
       "<table border=\"1\" class=\"dataframe\">\n",
       "  <thead>\n",
       "    <tr style=\"text-align: right;\">\n",
       "      <th></th>\n",
       "      <th>Posts</th>\n",
       "      <th>Label</th>\n",
       "    </tr>\n",
       "  </thead>\n",
       "  <tbody>\n",
       "    <tr>\n",
       "      <th>0</th>\n",
       "      <td>እነዚህን ወሳኝ ጉዳዮችን የሚያስፈፅም አካል እንዲቋቋምና ክትትል እንዲደረ...</td>\n",
       "      <td>ነጻ</td>\n",
       "    </tr>\n",
       "    <tr>\n",
       "      <th>1</th>\n",
       "      <td>ጃዋር አልበግዳዲ በግርግር ስልጣን ለመያዝ የሚያደርገው ነገር ብዙ ስራ ፈ...</td>\n",
       "      <td>ጥላቻ</td>\n",
       "    </tr>\n",
       "    <tr>\n",
       "      <th>2</th>\n",
       "      <td>ምን ሆናችሁ ኦርቶዶክሶች ሰሞኑን ፖለቲካ ገባ እንዴ ውስጣችኋይዟችሁ ወደ...</td>\n",
       "      <td>ነጻ</td>\n",
       "    </tr>\n",
       "    <tr>\n",
       "      <th>3</th>\n",
       "      <td>ስለ አሳምነው የምትፅፈው ነገር አሳምነው ለአማራ የነበረው ተቆርቋሪነት አ...</td>\n",
       "      <td>ነጻ</td>\n",
       "    </tr>\n",
       "    <tr>\n",
       "      <th>4</th>\n",
       "      <td>አጋጣሚውን ተጠቅመው የእስክንድር ነጋን ስም እና ትግል ለማዳከም የሚፈልጉ...</td>\n",
       "      <td>ጥላቻ</td>\n",
       "    </tr>\n",
       "    <tr>\n",
       "      <th>...</th>\n",
       "      <td>...</td>\n",
       "      <td>...</td>\n",
       "    </tr>\n",
       "    <tr>\n",
       "      <th>5725</th>\n",
       "      <td>ኦህዴድ እራሱ ባመጣዉ ቀዉስ ተናዉጦ መዉጫ ቀዳዳ     እየፈለገ ነዉ</td>\n",
       "      <td>ጥላቻ</td>\n",
       "    </tr>\n",
       "    <tr>\n",
       "      <th>5726</th>\n",
       "      <td>ኦሮሞ ሀገር መምራት አይችልም</td>\n",
       "      <td>ጥላቻ</td>\n",
       "    </tr>\n",
       "    <tr>\n",
       "      <th>5727</th>\n",
       "      <td>ሲማረኩ በሚሰጡት  አትታለሉ  ማርኮ ከማብላት መረሸን ይቀላል  ትግሬ ጎረ...</td>\n",
       "      <td>ጥላቻ</td>\n",
       "    </tr>\n",
       "    <tr>\n",
       "      <th>5728</th>\n",
       "      <td>በኦሮሞ ጥላቻ የተሞሉ ሴገጤዎች የወሎ ኦሮሞን ምንም ስሌ  የማያውቅን ህ...</td>\n",
       "      <td>ጥላቻ</td>\n",
       "    </tr>\n",
       "    <tr>\n",
       "      <th>5729</th>\n",
       "      <td>ኮሮና ቫይረስ ኢትዮጵያ ገባ እያሉ  ሲንጫጩ ስታይ አረ ፈታ በሉ ከቫይረሱ...</td>\n",
       "      <td>ጥላቻ</td>\n",
       "    </tr>\n",
       "  </tbody>\n",
       "</table>\n",
       "<p>5730 rows × 2 columns</p>\n",
       "</div>"
      ],
      "text/plain": [
       "                                                  Posts Label\n",
       "0     እነዚህን ወሳኝ ጉዳዮችን የሚያስፈፅም አካል እንዲቋቋምና ክትትል እንዲደረ...    ነጻ\n",
       "1     ጃዋር አልበግዳዲ በግርግር ስልጣን ለመያዝ የሚያደርገው ነገር ብዙ ስራ ፈ...   ጥላቻ\n",
       "2      ምን ሆናችሁ ኦርቶዶክሶች ሰሞኑን ፖለቲካ ገባ እንዴ ውስጣችኋይዟችሁ ወደ...    ነጻ\n",
       "3     ስለ አሳምነው የምትፅፈው ነገር አሳምነው ለአማራ የነበረው ተቆርቋሪነት አ...    ነጻ\n",
       "4     አጋጣሚውን ተጠቅመው የእስክንድር ነጋን ስም እና ትግል ለማዳከም የሚፈልጉ...   ጥላቻ\n",
       "...                                                 ...   ...\n",
       "5725      ኦህዴድ እራሱ ባመጣዉ ቀዉስ ተናዉጦ መዉጫ ቀዳዳ     እየፈለገ ነዉ     ጥላቻ\n",
       "5726                                 ኦሮሞ ሀገር መምራት አይችልም   ጥላቻ\n",
       "5727  ሲማረኩ በሚሰጡት  አትታለሉ  ማርኮ ከማብላት መረሸን ይቀላል  ትግሬ ጎረ...   ጥላቻ\n",
       "5728   በኦሮሞ ጥላቻ የተሞሉ ሴገጤዎች የወሎ ኦሮሞን ምንም ስሌ  የማያውቅን ህ...   ጥላቻ\n",
       "5729  ኮሮና ቫይረስ ኢትዮጵያ ገባ እያሉ  ሲንጫጩ ስታይ አረ ፈታ በሉ ከቫይረሱ...   ጥላቻ\n",
       "\n",
       "[5730 rows x 2 columns]"
      ]
     },
     "execution_count": 3,
     "metadata": {},
     "output_type": "execute_result"
    }
   ],
   "source": [
    "df "
   ]
  },
  {
   "cell_type": "code",
   "execution_count": 4,
   "id": "943e5a18",
   "metadata": {},
   "outputs": [
    {
     "name": "stdout",
     "output_type": "stream",
     "text": [
      "# Train data samples: 4584\n",
      "# Test data samples: 1146\n"
     ]
    }
   ],
   "source": [
    "X_train, X_test, y_train, y_test = train_test_split(df.Posts, df.Label, test_size=0.2, random_state=37)\n",
    "print('# Train data samples:', X_train.shape[0])\n",
    "print('# Test data samples:', X_test.shape[0])\n",
    "assert X_train.shape[0] == y_train.shape[0]\n",
    "assert X_test.shape[0] == y_test.shape[0]"
   ]
  },
  {
   "cell_type": "code",
   "execution_count": 6,
   "id": "d827fef8",
   "metadata": {},
   "outputs": [],
   "source": [
    "max_features = 10000 # hyperparamenter\n",
    "tokenizer = Tokenizer(num_words=max_features)\n",
    "tokenizer.fit_on_texts(list(X_train))\n",
    "list_tokenized_train = tokenizer.texts_to_sequences(X_train)\n",
    "list_tokenized_test = tokenizer.texts_to_sequences(X_test)"
   ]
  },
  {
   "cell_type": "code",
   "execution_count": 7,
   "id": "4e792695",
   "metadata": {},
   "outputs": [
    {
     "name": "stdout",
     "output_type": "stream",
     "text": [
      "Maximum sentence length of the dataset: 215\n"
     ]
    }
   ],
   "source": [
    "MAX_LEN = max(df['Posts'].apply(lambda x: len(x.split(' '))))\n",
    "print(\"Maximum sentence length of the dataset:\", MAX_LEN)"
   ]
  },
  {
   "cell_type": "code",
   "execution_count": 8,
   "id": "ce4b36e6",
   "metadata": {},
   "outputs": [],
   "source": [
    "X_t = pad_sequences(list_tokenized_train, maxlen=MAX_LEN)\n",
    "X_te = pad_sequences(list_tokenized_test, maxlen=MAX_LEN)"
   ]
  },
  {
   "cell_type": "code",
   "execution_count": 9,
   "id": "4ae013f4",
   "metadata": {},
   "outputs": [
    {
     "data": {
      "text/plain": [
       "array([[   0,    0,    0, ...,   69,  308,    1],\n",
       "       [   0,    0,    0, ..., 8300, 8301, 8302],\n",
       "       [   0,    0,    0, ..., 8318,  859, 8319],\n",
       "       ...,\n",
       "       [   0,    0,    0, ..., 3083, 2243, 1447],\n",
       "       [   0,    0,    0, ...,   42,   24,    1],\n",
       "       [   0,    0,    0, ..., 1300,   31,  529]])"
      ]
     },
     "execution_count": 9,
     "metadata": {},
     "output_type": "execute_result"
    }
   ],
   "source": [
    "X_t"
   ]
  },
  {
   "cell_type": "code",
   "execution_count": 10,
   "id": "c74a6be6",
   "metadata": {},
   "outputs": [],
   "source": [
    "pretrained_model ='fasttext'\n",
    "#pretrained_model ='word2vec'"
   ]
  },
  {
   "cell_type": "code",
   "execution_count": 11,
   "id": "95eb7e0e",
   "metadata": {
    "scrolled": true
   },
   "outputs": [
    {
     "name": "stdout",
     "output_type": "stream",
     "text": [
      "Loaded 304650 word vectors.\n"
     ]
    }
   ],
   "source": [
    "if pretrained_model == \"fasttext\":\n",
    "    EMBEDDING_FILE='Embeddings/cc.am.300.vec'\n",
    "    gc.enable()\n",
    "    # def loadEmbeddingMatrix():\n",
    "    embeddings_index = dict()\n",
    "    f = open(EMBEDDING_FILE,encoding=\"utf8\")\n",
    "    for line in f:\n",
    "        values = line.split()\n",
    "        word = values[0]\n",
    "        coefs = np.asarray(values[1:], dtype='float32')\n",
    "        embeddings_index[word] = coefs #50 dimensions\n",
    "    f.close()\n",
    "    print('Loaded %s word vectors.' % len(embeddings_index))\n",
    "    gc.collect()\n",
    "    embed_size = 300 #hyperparamenter\n",
    "elif pretrained_model == 'word2vec':\n",
    "    EMBEDDING_FILE = word2vec.KeyedVectors.load_word2vec_format(\"Embeddings/5w_10ng_am_w2v_cbow_300D.txt\", binary=False)\n",
    "    embed_size = 300\n",
    "    EMBEDDING_FILE.fill_norms()\n",
    "    gc.enable()\n",
    "    embeddings_index = dict()\n",
    "    for word in EMBEDDING_FILE.key_to_index:\n",
    "        embeddings_index[word] = EMBEDDING_FILE.word_vec(word)\n",
    "    #print('Loaded %s word vectors.' % len(embeddings_index))\n",
    "    gc.collect()"
   ]
  },
  {
   "cell_type": "code",
   "execution_count": 12,
   "id": "d39ce72a",
   "metadata": {},
   "outputs": [],
   "source": [
    "embeddings_index = dict(itertools.islice(embeddings_index.items(), 1,len(embeddings_index)))"
   ]
  },
  {
   "cell_type": "code",
   "execution_count": 13,
   "id": "2b96e900",
   "metadata": {},
   "outputs": [
    {
     "name": "stdout",
     "output_type": "stream",
     "text": [
      "total embedded: 16517 common words\n"
     ]
    },
    {
     "data": {
      "text/plain": [
       "0"
      ]
     },
     "execution_count": 13,
     "metadata": {},
     "output_type": "execute_result"
    }
   ],
   "source": [
    "all_embs = np.stack(list(embeddings_index.values()))\n",
    "emb_mean,emb_std = all_embs.mean(), all_embs.std()\n",
    "\n",
    "nb_words = len(tokenizer.word_index)\n",
    "embedding_matrix = np.random.normal(emb_mean, emb_std, (nb_words, embed_size))\n",
    "gc.collect()\n",
    "\n",
    "embeddedCount = 0\n",
    "for word, i in tokenizer.word_index.items():\n",
    "    i-=1\n",
    "    #print(word)\n",
    "    embedding_vector = embeddings_index.get(word)\n",
    "    if embedding_vector is not None: \n",
    "        embedding_matrix[i] = embedding_vector\n",
    "        embeddedCount+=1\n",
    "print('total embedded:',embeddedCount,'common words')\n",
    "\n",
    "del(embeddings_index)\n",
    "gc.collect()"
   ]
  },
  {
   "cell_type": "code",
   "execution_count": 14,
   "id": "da4fedb4",
   "metadata": {},
   "outputs": [],
   "source": [
    "le = LabelEncoder()\n",
    "y_train_le = le.fit_transform(y_train)\n",
    "y_test_le = le.transform(y_test)\n",
    "y_train_oh = to_categorical(y_train_le)\n",
    "y_test_oh = to_categorical(y_test_le)"
   ]
  },
  {
   "cell_type": "code",
   "execution_count": 21,
   "id": "3949f708",
   "metadata": {},
   "outputs": [],
   "source": [
    "def model(model_type = 'GRU'):\n",
    "    inp = Input(shape=(MAX_LEN, ))\n",
    "    x = Embedding(len(tokenizer.word_index), embedding_matrix.shape[1],weights=[embedding_matrix],trainable=False)(inp)\n",
    "    \n",
    "    if model_type == 'LSTM':\n",
    "        x = LSTM(60, return_sequences=True,name='lstm_layer')(x)\n",
    "    elif model_type == 'CNN':\n",
    "        x = Conv1D(60,32,activation='relu',name='CNN_layer')(x)\n",
    "    elif model_type == 'GRU':\n",
    "        x = GRU(60,name='GRU_layer',return_sequences=True)(x)\n",
    "    elif model_type == 'SimpleRNN':\n",
    "        x = SimpleRNN(32, return_sequences=True,name='SimpleRNN')(x)\n",
    "    \n",
    "    x = GlobalMaxPool1D()(x)\n",
    "    x = Dropout(0.5)(x)\n",
    "    x = Flatten()(x)\n",
    "    x = Dense(2, activation='softmax')(x)\n",
    "    model = Model(inputs=inp, outputs=x)\n",
    "\n",
    "    model.compile(loss=CategoricalCrossentropy(), \n",
    "                      optimizer='adam',\n",
    "                      metrics=['accuracy'])\n",
    "    model.summary()\n",
    "    return model"
   ]
  },
  {
   "cell_type": "code",
   "execution_count": 22,
   "id": "55788179",
   "metadata": {},
   "outputs": [
    {
     "name": "stdout",
     "output_type": "stream",
     "text": [
      "Model: \"model_1\"\n",
      "_________________________________________________________________\n",
      " Layer (type)                Output Shape              Param #   \n",
      "=================================================================\n",
      " input_2 (InputLayer)        [(None, 215)]             0         \n",
      "                                                                 \n",
      " embedding_1 (Embedding)     (None, 215, 300)          7618500   \n",
      "                                                                 \n",
      " GRU_layer (GRU)             (None, 215, 60)           65160     \n",
      "                                                                 \n",
      " global_max_pooling1d_1 (Glo  (None, 60)               0         \n",
      " balMaxPooling1D)                                                \n",
      "                                                                 \n",
      " dropout_1 (Dropout)         (None, 60)                0         \n",
      "                                                                 \n",
      " flatten_1 (Flatten)         (None, 60)                0         \n",
      "                                                                 \n",
      " dense_1 (Dense)             (None, 2)                 122       \n",
      "                                                                 \n",
      "=================================================================\n",
      "Total params: 7,683,782\n",
      "Trainable params: 65,282\n",
      "Non-trainable params: 7,618,500\n",
      "_________________________________________________________________\n"
     ]
    }
   ],
   "source": [
    "model = model('GRU')"
   ]
  },
  {
   "cell_type": "code",
   "execution_count": 19,
   "id": "0cf6c5ed",
   "metadata": {},
   "outputs": [],
   "source": [
    "callback = EarlyStopping(monitor='loss', patience=5)"
   ]
  },
  {
   "cell_type": "code",
   "execution_count": 23,
   "id": "b7dd0f97",
   "metadata": {
    "scrolled": true
   },
   "outputs": [
    {
     "name": "stdout",
     "output_type": "stream",
     "text": [
      "Epoch 1/100\n",
      "33/33 [==============================] - 18s 364ms/step - loss: 0.6869 - accuracy: 0.5467 - val_loss: 0.6777 - val_accuracy: 0.6035\n",
      "Epoch 2/100\n",
      "33/33 [==============================] - 12s 356ms/step - loss: 0.6764 - accuracy: 0.5842 - val_loss: 0.6656 - val_accuracy: 0.6187\n",
      "Epoch 3/100\n",
      "33/33 [==============================] - 12s 364ms/step - loss: 0.6648 - accuracy: 0.6095 - val_loss: 0.6545 - val_accuracy: 0.6536\n",
      "Epoch 4/100\n",
      "33/33 [==============================] - 12s 361ms/step - loss: 0.6524 - accuracy: 0.6276 - val_loss: 0.6427 - val_accuracy: 0.6514\n",
      "Epoch 5/100\n",
      "33/33 [==============================] - 12s 353ms/step - loss: 0.6392 - accuracy: 0.6478 - val_loss: 0.6326 - val_accuracy: 0.6580\n",
      "Epoch 6/100\n",
      "33/33 [==============================] - 12s 350ms/step - loss: 0.6223 - accuracy: 0.6531 - val_loss: 0.6245 - val_accuracy: 0.6536\n",
      "Epoch 7/100\n",
      "33/33 [==============================] - 12s 356ms/step - loss: 0.6117 - accuracy: 0.6555 - val_loss: 0.6343 - val_accuracy: 0.6383\n",
      "Epoch 8/100\n",
      "33/33 [==============================] - 12s 349ms/step - loss: 0.6056 - accuracy: 0.6572 - val_loss: 0.6156 - val_accuracy: 0.6797\n",
      "Epoch 9/100\n",
      "33/33 [==============================] - 12s 362ms/step - loss: 0.5938 - accuracy: 0.6735 - val_loss: 0.6216 - val_accuracy: 0.6405\n",
      "Epoch 10/100\n",
      "33/33 [==============================] - 12s 364ms/step - loss: 0.5777 - accuracy: 0.6897 - val_loss: 0.6123 - val_accuracy: 0.6841\n",
      "Epoch 11/100\n",
      "33/33 [==============================] - 12s 358ms/step - loss: 0.5718 - accuracy: 0.7008 - val_loss: 0.6116 - val_accuracy: 0.6580\n",
      "Epoch 12/100\n",
      "33/33 [==============================] - 12s 356ms/step - loss: 0.5630 - accuracy: 0.6992 - val_loss: 0.6076 - val_accuracy: 0.6754\n",
      "Epoch 13/100\n",
      "33/33 [==============================] - 12s 352ms/step - loss: 0.5532 - accuracy: 0.7159 - val_loss: 0.6098 - val_accuracy: 0.6732\n",
      "Epoch 14/100\n",
      "33/33 [==============================] - 12s 352ms/step - loss: 0.5508 - accuracy: 0.7084 - val_loss: 0.6208 - val_accuracy: 0.6471\n",
      "Epoch 15/100\n",
      "33/33 [==============================] - 13s 382ms/step - loss: 0.5395 - accuracy: 0.7224 - val_loss: 0.6098 - val_accuracy: 0.6776\n",
      "Epoch 16/100\n",
      "33/33 [==============================] - 12s 370ms/step - loss: 0.5247 - accuracy: 0.7328 - val_loss: 0.6013 - val_accuracy: 0.6688\n",
      "Epoch 17/100\n",
      "33/33 [==============================] - 12s 353ms/step - loss: 0.5181 - accuracy: 0.7425 - val_loss: 0.6078 - val_accuracy: 0.6645\n",
      "Epoch 18/100\n",
      "33/33 [==============================] - 14s 438ms/step - loss: 0.5190 - accuracy: 0.7476 - val_loss: 0.6134 - val_accuracy: 0.6645\n",
      "Epoch 19/100\n",
      "33/33 [==============================] - 13s 390ms/step - loss: 0.5118 - accuracy: 0.7372 - val_loss: 0.6027 - val_accuracy: 0.6754\n",
      "Epoch 20/100\n",
      "33/33 [==============================] - 12s 374ms/step - loss: 0.5030 - accuracy: 0.7360 - val_loss: 0.6118 - val_accuracy: 0.6601\n",
      "Epoch 21/100\n",
      "33/33 [==============================] - 12s 372ms/step - loss: 0.4931 - accuracy: 0.7581 - val_loss: 0.6048 - val_accuracy: 0.6863\n",
      "Epoch 22/100\n",
      "33/33 [==============================] - 12s 366ms/step - loss: 0.4853 - accuracy: 0.7605 - val_loss: 0.6071 - val_accuracy: 0.6732\n",
      "Epoch 23/100\n",
      "33/33 [==============================] - 13s 396ms/step - loss: 0.4821 - accuracy: 0.7542 - val_loss: 0.6021 - val_accuracy: 0.6819\n",
      "Epoch 24/100\n",
      "33/33 [==============================] - 12s 370ms/step - loss: 0.4711 - accuracy: 0.7605 - val_loss: 0.6306 - val_accuracy: 0.6776\n",
      "Epoch 25/100\n",
      "33/33 [==============================] - 12s 377ms/step - loss: 0.4676 - accuracy: 0.7733 - val_loss: 0.6135 - val_accuracy: 0.6906\n",
      "Epoch 26/100\n",
      "33/33 [==============================] - 12s 376ms/step - loss: 0.4578 - accuracy: 0.7736 - val_loss: 0.6301 - val_accuracy: 0.6797\n",
      "Epoch 27/100\n",
      "33/33 [==============================] - 13s 384ms/step - loss: 0.4477 - accuracy: 0.7828 - val_loss: 0.6553 - val_accuracy: 0.6710\n",
      "Epoch 28/100\n",
      "33/33 [==============================] - 11s 338ms/step - loss: 0.4374 - accuracy: 0.7876 - val_loss: 0.7177 - val_accuracy: 0.6536\n",
      "Epoch 29/100\n",
      "33/33 [==============================] - 11s 348ms/step - loss: 0.4411 - accuracy: 0.7891 - val_loss: 0.6373 - val_accuracy: 0.6797\n",
      "Epoch 30/100\n",
      "33/33 [==============================] - 12s 357ms/step - loss: 0.4221 - accuracy: 0.8007 - val_loss: 0.6506 - val_accuracy: 0.6688\n",
      "Epoch 31/100\n",
      "33/33 [==============================] - 12s 354ms/step - loss: 0.4322 - accuracy: 0.7932 - val_loss: 0.5959 - val_accuracy: 0.6906\n",
      "Epoch 32/100\n",
      "33/33 [==============================] - 12s 350ms/step - loss: 0.4246 - accuracy: 0.7956 - val_loss: 0.6528 - val_accuracy: 0.6797\n",
      "Epoch 33/100\n",
      "33/33 [==============================] - 11s 348ms/step - loss: 0.4094 - accuracy: 0.8075 - val_loss: 0.6654 - val_accuracy: 0.6885\n",
      "Epoch 34/100\n",
      "33/33 [==============================] - 12s 355ms/step - loss: 0.3991 - accuracy: 0.8133 - val_loss: 0.6698 - val_accuracy: 0.6993\n",
      "Epoch 35/100\n",
      "33/33 [==============================] - 12s 353ms/step - loss: 0.3916 - accuracy: 0.8153 - val_loss: 0.6787 - val_accuracy: 0.6732\n",
      "Epoch 36/100\n",
      "33/33 [==============================] - 11s 337ms/step - loss: 0.3854 - accuracy: 0.8242 - val_loss: 0.6640 - val_accuracy: 0.6645\n",
      "Epoch 37/100\n",
      "33/33 [==============================] - 11s 332ms/step - loss: 0.3709 - accuracy: 0.8288 - val_loss: 0.6850 - val_accuracy: 0.6885\n",
      "Epoch 38/100\n",
      "33/33 [==============================] - 11s 337ms/step - loss: 0.3761 - accuracy: 0.8238 - val_loss: 0.6821 - val_accuracy: 0.6841\n",
      "Epoch 39/100\n",
      "33/33 [==============================] - 12s 351ms/step - loss: 0.3632 - accuracy: 0.8310 - val_loss: 0.6837 - val_accuracy: 0.6819\n",
      "Epoch 40/100\n",
      "33/33 [==============================] - 12s 369ms/step - loss: 0.3508 - accuracy: 0.8441 - val_loss: 0.7584 - val_accuracy: 0.6623\n",
      "Epoch 41/100\n",
      "33/33 [==============================] - 12s 367ms/step - loss: 0.3608 - accuracy: 0.8335 - val_loss: 0.6914 - val_accuracy: 0.6710\n",
      "Epoch 42/100\n",
      "33/33 [==============================] - 13s 384ms/step - loss: 0.3647 - accuracy: 0.8337 - val_loss: 0.7272 - val_accuracy: 0.6667\n",
      "Epoch 43/100\n",
      "33/33 [==============================] - 12s 364ms/step - loss: 0.3450 - accuracy: 0.8402 - val_loss: 0.6816 - val_accuracy: 0.6776\n",
      "Epoch 44/100\n",
      "33/33 [==============================] - 13s 394ms/step - loss: 0.3356 - accuracy: 0.8487 - val_loss: 0.7448 - val_accuracy: 0.6623\n",
      "Epoch 45/100\n",
      "33/33 [==============================] - 13s 395ms/step - loss: 0.3217 - accuracy: 0.8592 - val_loss: 0.8327 - val_accuracy: 0.6732\n",
      "Epoch 46/100\n",
      "33/33 [==============================] - 13s 408ms/step - loss: 0.3369 - accuracy: 0.8473 - val_loss: 0.7723 - val_accuracy: 0.6710\n",
      "Epoch 47/100\n",
      "33/33 [==============================] - 13s 391ms/step - loss: 0.3779 - accuracy: 0.8255 - val_loss: 0.6158 - val_accuracy: 0.6688\n",
      "Epoch 48/100\n",
      "33/33 [==============================] - 12s 369ms/step - loss: 0.3534 - accuracy: 0.8453 - val_loss: 0.6833 - val_accuracy: 0.6667\n",
      "Epoch 49/100\n",
      "33/33 [==============================] - 13s 386ms/step - loss: 0.3231 - accuracy: 0.8543 - val_loss: 0.7421 - val_accuracy: 0.6688\n",
      "Epoch 50/100\n",
      "33/33 [==============================] - 13s 383ms/step - loss: 0.3207 - accuracy: 0.8543 - val_loss: 0.7626 - val_accuracy: 0.6667\n",
      "Epoch 51/100\n",
      "33/33 [==============================] - 13s 390ms/step - loss: 0.2971 - accuracy: 0.8647 - val_loss: 0.8024 - val_accuracy: 0.6688\n",
      "Epoch 52/100\n",
      "33/33 [==============================] - 12s 357ms/step - loss: 0.2951 - accuracy: 0.8737 - val_loss: 0.8069 - val_accuracy: 0.6471\n",
      "Epoch 53/100\n",
      "33/33 [==============================] - 12s 379ms/step - loss: 0.2885 - accuracy: 0.8759 - val_loss: 0.8132 - val_accuracy: 0.6710\n",
      "Epoch 54/100\n",
      "33/33 [==============================] - 13s 398ms/step - loss: 0.2793 - accuracy: 0.8764 - val_loss: 0.8670 - val_accuracy: 0.6601\n",
      "Epoch 55/100\n",
      "33/33 [==============================] - 13s 398ms/step - loss: 0.2719 - accuracy: 0.8783 - val_loss: 0.9598 - val_accuracy: 0.6710\n",
      "Epoch 56/100\n",
      "33/33 [==============================] - 13s 385ms/step - loss: 0.2943 - accuracy: 0.8742 - val_loss: 0.7272 - val_accuracy: 0.6776\n",
      "Epoch 57/100\n"
     ]
    },
    {
     "name": "stdout",
     "output_type": "stream",
     "text": [
      "33/33 [==============================] - 15s 442ms/step - loss: 0.3358 - accuracy: 0.8599 - val_loss: 0.7591 - val_accuracy: 0.6688\n",
      "Epoch 58/100\n",
      "33/33 [==============================] - 13s 385ms/step - loss: 0.2964 - accuracy: 0.8698 - val_loss: 0.7842 - val_accuracy: 0.6710\n",
      "Epoch 59/100\n",
      "33/33 [==============================] - 12s 369ms/step - loss: 0.2719 - accuracy: 0.8878 - val_loss: 0.9528 - val_accuracy: 0.6732\n",
      "Epoch 60/100\n",
      "33/33 [==============================] - 12s 353ms/step - loss: 0.2683 - accuracy: 0.8880 - val_loss: 0.8504 - val_accuracy: 0.6645\n",
      "Epoch 61/100\n",
      "33/33 [==============================] - 11s 347ms/step - loss: 0.2621 - accuracy: 0.8878 - val_loss: 0.8353 - val_accuracy: 0.6623\n",
      "Epoch 62/100\n",
      "33/33 [==============================] - 13s 381ms/step - loss: 0.2470 - accuracy: 0.8960 - val_loss: 0.9491 - val_accuracy: 0.6536\n",
      "Epoch 63/100\n",
      "33/33 [==============================] - 13s 391ms/step - loss: 0.2447 - accuracy: 0.8999 - val_loss: 1.0105 - val_accuracy: 0.6710\n",
      "Epoch 64/100\n",
      "33/33 [==============================] - 12s 370ms/step - loss: 0.2526 - accuracy: 0.8924 - val_loss: 0.9580 - val_accuracy: 0.6754\n",
      "Epoch 65/100\n",
      "33/33 [==============================] - 12s 359ms/step - loss: 0.2260 - accuracy: 0.9052 - val_loss: 1.0033 - val_accuracy: 0.6710\n",
      "Epoch 66/100\n",
      "33/33 [==============================] - 11s 345ms/step - loss: 0.2356 - accuracy: 0.9021 - val_loss: 0.8929 - val_accuracy: 0.6514\n",
      "Epoch 67/100\n",
      "33/33 [==============================] - 13s 391ms/step - loss: 0.2451 - accuracy: 0.8955 - val_loss: 1.0151 - val_accuracy: 0.6601\n",
      "Epoch 68/100\n",
      "33/33 [==============================] - 12s 369ms/step - loss: 0.2257 - accuracy: 0.9059 - val_loss: 1.1017 - val_accuracy: 0.6754\n",
      "Epoch 69/100\n",
      "33/33 [==============================] - 12s 351ms/step - loss: 0.2285 - accuracy: 0.9052 - val_loss: 1.0767 - val_accuracy: 0.6601\n",
      "Epoch 70/100\n",
      "33/33 [==============================] - 12s 360ms/step - loss: 0.2220 - accuracy: 0.9006 - val_loss: 1.0854 - val_accuracy: 0.6732\n",
      "Epoch 71/100\n",
      "33/33 [==============================] - 12s 372ms/step - loss: 0.2647 - accuracy: 0.8994 - val_loss: 1.1406 - val_accuracy: 0.6601\n",
      "Epoch 72/100\n",
      "33/33 [==============================] - 12s 371ms/step - loss: 0.3469 - accuracy: 0.8514 - val_loss: 0.8343 - val_accuracy: 0.6536\n",
      "Epoch 73/100\n",
      "33/33 [==============================] - 13s 385ms/step - loss: 0.2593 - accuracy: 0.8904 - val_loss: 0.9350 - val_accuracy: 0.6645\n",
      "Epoch 74/100\n",
      "33/33 [==============================] - 12s 362ms/step - loss: 0.2287 - accuracy: 0.9093 - val_loss: 1.0542 - val_accuracy: 0.6514\n",
      "Epoch 75/100\n",
      "33/33 [==============================] - 13s 408ms/step - loss: 0.2193 - accuracy: 0.9045 - val_loss: 1.0962 - val_accuracy: 0.6558\n",
      "Epoch 76/100\n",
      "33/33 [==============================] - 13s 386ms/step - loss: 0.2180 - accuracy: 0.9096 - val_loss: 1.1184 - val_accuracy: 0.6645\n",
      "Epoch 77/100\n",
      "33/33 [==============================] - 13s 381ms/step - loss: 0.1998 - accuracy: 0.9178 - val_loss: 1.1557 - val_accuracy: 0.6645\n",
      "Epoch 78/100\n",
      "33/33 [==============================] - 12s 379ms/step - loss: 0.2169 - accuracy: 0.9110 - val_loss: 1.0949 - val_accuracy: 0.6688\n",
      "Epoch 79/100\n",
      "33/33 [==============================] - 13s 384ms/step - loss: 0.2218 - accuracy: 0.9030 - val_loss: 1.1261 - val_accuracy: 0.6601\n",
      "Epoch 80/100\n",
      "33/33 [==============================] - 12s 352ms/step - loss: 0.2232 - accuracy: 0.9042 - val_loss: 1.1667 - val_accuracy: 0.6601\n",
      "Epoch 81/100\n",
      "33/33 [==============================] - 12s 363ms/step - loss: 0.1960 - accuracy: 0.9176 - val_loss: 1.1344 - val_accuracy: 0.6710\n",
      "Epoch 82/100\n",
      "33/33 [==============================] - 12s 378ms/step - loss: 0.1885 - accuracy: 0.9200 - val_loss: 1.2601 - val_accuracy: 0.6754\n",
      "Epoch 83/100\n",
      "33/33 [==============================] - 14s 419ms/step - loss: 0.1931 - accuracy: 0.9205 - val_loss: 1.2618 - val_accuracy: 0.6841\n",
      "Epoch 84/100\n",
      "33/33 [==============================] - 13s 404ms/step - loss: 0.1805 - accuracy: 0.9236 - val_loss: 1.3204 - val_accuracy: 0.6558\n",
      "Epoch 85/100\n",
      "33/33 [==============================] - 12s 379ms/step - loss: 0.1966 - accuracy: 0.9154 - val_loss: 1.2630 - val_accuracy: 0.6710\n",
      "Epoch 86/100\n",
      "33/33 [==============================] - 13s 389ms/step - loss: 0.1966 - accuracy: 0.9193 - val_loss: 1.2957 - val_accuracy: 0.6667\n",
      "Epoch 87/100\n",
      "33/33 [==============================] - 13s 391ms/step - loss: 0.1745 - accuracy: 0.9280 - val_loss: 1.3638 - val_accuracy: 0.6688\n",
      "Epoch 88/100\n",
      "33/33 [==============================] - 12s 374ms/step - loss: 0.1741 - accuracy: 0.9290 - val_loss: 1.3599 - val_accuracy: 0.6754\n",
      "Epoch 89/100\n",
      "33/33 [==============================] - 12s 356ms/step - loss: 0.1675 - accuracy: 0.9273 - val_loss: 1.3882 - val_accuracy: 0.6688\n",
      "Epoch 90/100\n",
      "33/33 [==============================] - 11s 344ms/step - loss: 0.1705 - accuracy: 0.9316 - val_loss: 1.4244 - val_accuracy: 0.6732\n",
      "Epoch 91/100\n",
      "33/33 [==============================] - 12s 356ms/step - loss: 0.2024 - accuracy: 0.9171 - val_loss: 1.2341 - val_accuracy: 0.6710\n",
      "Epoch 92/100\n",
      "33/33 [==============================] - 12s 360ms/step - loss: 0.1796 - accuracy: 0.9229 - val_loss: 1.3757 - val_accuracy: 0.6688\n",
      "Epoch 93/100\n",
      "33/33 [==============================] - 12s 352ms/step - loss: 0.1765 - accuracy: 0.9287 - val_loss: 1.4064 - val_accuracy: 0.6732\n",
      "Epoch 94/100\n",
      "33/33 [==============================] - 12s 351ms/step - loss: 0.1635 - accuracy: 0.9338 - val_loss: 1.4157 - val_accuracy: 0.6623\n",
      "Epoch 95/100\n",
      "33/33 [==============================] - 11s 341ms/step - loss: 0.1633 - accuracy: 0.9355 - val_loss: 1.4375 - val_accuracy: 0.6536\n",
      "Epoch 96/100\n",
      "33/33 [==============================] - 12s 369ms/step - loss: 0.1680 - accuracy: 0.9321 - val_loss: 1.4528 - val_accuracy: 0.6667\n",
      "Epoch 97/100\n",
      "33/33 [==============================] - 13s 381ms/step - loss: 0.1603 - accuracy: 0.9309 - val_loss: 1.5032 - val_accuracy: 0.6645\n",
      "Epoch 98/100\n",
      "33/33 [==============================] - 13s 383ms/step - loss: 0.1572 - accuracy: 0.9350 - val_loss: 1.5703 - val_accuracy: 0.6667\n",
      "Epoch 99/100\n",
      "33/33 [==============================] - 11s 347ms/step - loss: 0.1675 - accuracy: 0.9333 - val_loss: 1.4142 - val_accuracy: 0.6492\n",
      "Epoch 100/100\n",
      "33/33 [==============================] - 12s 356ms/step - loss: 0.1660 - accuracy: 0.9275 - val_loss: 1.2465 - val_accuracy: 0.6754\n"
     ]
    }
   ],
   "source": [
    "history = model.fit(X_t, y_train_oh,batch_size=128,epochs=100, validation_split=0.1,verbose=1, callbacks=[callback])"
   ]
  },
  {
   "cell_type": "code",
   "execution_count": 24,
   "id": "63115c96",
   "metadata": {},
   "outputs": [
    {
     "data": {
      "image/png": "[encoded data removed]",
      "text/plain": [
       "<Figure size 432x288 with 1 Axes>"
      ]
     },
     "metadata": {
      "needs_background": "light"
     },
     "output_type": "display_data"
    },
    {
     "data": {
      "image/png": "[encoded data removed]",
      "text/plain": [
       "<Figure size 432x288 with 1 Axes>"
      ]
     },
     "metadata": {
      "needs_background": "light"
     },
     "output_type": "display_data"
    }
   ],
   "source": [
    "import matplotlib.pyplot as plt\n",
    "\n",
    "# summarize history for accuracy\n",
    "plt.ylabel\n",
    "plt.plot(history.history['accuracy'])\n",
    "plt.plot(history.history['val_accuracy'])\n",
    "plt.title('Model accuracy')\n",
    "plt.ylabel('accuracy')\n",
    "plt.xlabel('epoch')\n",
    "plt.legend(['Train', 'Validation'], loc='upper left')\n",
    "plt.show()\n",
    "# summarize history for loss\n",
    "plt.plot(history.history['loss'])\n",
    "plt.plot(history.history['val_loss'])\n",
    "plt.title('Model loss')\n",
    "plt.ylabel('loss')\n",
    "plt.xlabel('epoch')\n",
    "plt.legend(['Train', 'Validation'], loc='upper left')\n",
    "plt.show()"
   ]
  },
  {
   "cell_type": "code",
   "execution_count": 25,
   "id": "4948f95c",
   "metadata": {},
   "outputs": [
    {
     "name": "stdout",
     "output_type": "stream",
     "text": [
      "36/36 [==============================] - 3s 44ms/step\n"
     ]
    }
   ],
   "source": [
    "pred = model.predict(X_te)"
   ]
  },
  {
   "cell_type": "code",
   "execution_count": 26,
   "id": "8b1f2d82",
   "metadata": {},
   "outputs": [],
   "source": [
    "# list containing original values\n",
    "original = []\n",
    "for i in y_test_oh:\n",
    "    original.append(np.argmax(i))"
   ]
  },
  {
   "cell_type": "code",
   "execution_count": 27,
   "id": "e4211a47",
   "metadata": {},
   "outputs": [],
   "source": [
    "prediction = []\n",
    "for i in pred:\n",
    "    prediction.append(np.argmax(i))"
   ]
  },
  {
   "cell_type": "code",
   "execution_count": 28,
   "id": "d1d0bac1",
   "metadata": {},
   "outputs": [
    {
     "data": {
      "text/plain": [
       "[1, 0, 1, 1, 0, 1, 0, 0, 0, 1, 0, 0, 0, 1, 1, 0, 0, 0, 1, 0]"
      ]
     },
     "execution_count": 28,
     "metadata": {},
     "output_type": "execute_result"
    }
   ],
   "source": [
    "original[:20]"
   ]
  },
  {
   "cell_type": "code",
   "execution_count": 29,
   "id": "19911dac",
   "metadata": {},
   "outputs": [
    {
     "data": {
      "text/plain": [
       "[0, 1, 1, 1, 1, 1, 0, 0, 0, 1, 0, 1, 1, 1, 0, 0, 0, 0, 1, 1]"
      ]
     },
     "execution_count": 29,
     "metadata": {},
     "output_type": "execute_result"
    }
   ],
   "source": [
    "prediction[:20]"
   ]
  },
  {
   "cell_type": "code",
   "execution_count": 30,
   "id": "dbd3a881",
   "metadata": {},
   "outputs": [
    {
     "name": "stdout",
     "output_type": "stream",
     "text": [
      "Accuracy:  0.6413612565445026\n",
      "Recall:  0.6382167900002771\n",
      "Precision:  0.6377928824049515\n",
      "F1-score:  0.6379647884888104\n"
     ]
    }
   ],
   "source": [
    "from sklearn.metrics import accuracy_score,confusion_matrix,classification_report,recall_score,f1_score,precision_score \n",
    "print('Accuracy: ',accuracy_score(original, prediction))\n",
    "print('Recall: ',recall_score(original, prediction, average='macro'))\n",
    "print('Precision: ',precision_score(original, prediction, average='macro'))\n",
    "print('F1-score: ',f1_score(original, prediction, average='macro'))"
   ]
  },
  {
   "cell_type": "code",
   "execution_count": 31,
   "id": "5e8af2f7",
   "metadata": {},
   "outputs": [
    {
     "name": "stdout",
     "output_type": "stream",
     "text": [
      "[[423 210]\n",
      " [201 312]]\n"
     ]
    }
   ],
   "source": [
    "from sklearn.metrics import confusion_matrix\n",
    "import seaborn as sns\n",
    "#Get the confusion matrix\n",
    "cf_matrix = confusion_matrix(original, prediction)\n",
    "print(cf_matrix)"
   ]
  },
  {
   "cell_type": "code",
   "execution_count": 34,
   "id": "7ba3a237",
   "metadata": {},
   "outputs": [
    {
     "data": {
      "image/png": "[encoded data removed]",
      "text/plain": [
       "<Figure size 432x288 with 2 Axes>"
      ]
     },
     "metadata": {
      "needs_background": "light"
     },
     "output_type": "display_data"
    }
   ],
   "source": [
    "#group_names = ['True Neg','False Pos','False Neg','True Pos','True Pos','True Pos','True Pos','True Pos','True Pos']\n",
    "group_counts = [\"{0:0.0f}\".format(value) for value in\n",
    "cf_matrix.flatten()]\n",
    "group_percentages = [\"{0:.2%}\".format(value) for value in\n",
    "cf_matrix.flatten()/np.sum(cf_matrix)]\n",
    "labels = [f\"{v1}\\n{v2}\\n\" for v1, v2 in\n",
    "zip(group_counts,group_percentages)]\n",
    "labels = np.asarray(labels).reshape(2,2)\n",
    "ax = sns.heatmap(cf_matrix, annot=labels, fmt='', cmap='Blues')\n",
    "ax.set_title('Confusion Matrix with labels\\n\\n');\n",
    "ax.set_xlabel('\\nPredicted')\n",
    "ax.set_ylabel('Actual');\n",
    "## Ticket labels - List must be in alphabetical order\n",
    "ax.xaxis.set_ticklabels(['Hate','Free'])\n",
    "ax.yaxis.set_ticklabels(['Hate','Free'])\n",
    "## Display the visualization of the Confusion Matrix.\n",
    "plt.show()"
   ]
  },
  {
   "cell_type": "code",
   "execution_count": null,
   "id": "0cc1f679",
   "metadata": {},
   "outputs": [],
   "source": []
  }
 ],
 "metadata": {
  "kernelspec": {
   "display_name": "Python 3 (ipykernel)",
   "language": "python",
   "name": "python3"
  },
  "language_info": {
   "codemirror_mode": {
    "name": "ipython",
    "version": 3
   },
   "file_extension": ".py",
   "mimetype": "text/x-python",
   "name": "python",
   "nbconvert_exporter": "python",
   "pygments_lexer": "ipython3",
   "version": "3.9.7"
  }
 },
 "nbformat": 4,
 "nbformat_minor": 5
}
